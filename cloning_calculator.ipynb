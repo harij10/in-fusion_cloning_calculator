{
 "cells": [
  {
   "cell_type": "code",
   "execution_count": 36,
   "id": "7ad57bbf-3b22-4cfe-9d56-ea71ea3a8217",
   "metadata": {},
   "outputs": [],
   "source": [
    "import numpy as np\n",
    "import math\n",
    "import matplotlib.pyplot as plt\n",
    "from scipy.optimize import linprog, LinearConstraint, minimize\n",
    "from scipy import constants"
   ]
  },
  {
   "cell_type": "code",
   "execution_count": 8,
   "id": "55aba3c0-675c-4b3a-9ec3-a543adca9325",
   "metadata": {},
   "outputs": [],
   "source": [
    "# Single or double insertion reaction\n",
    "num_inserts = 1\n",
    "\n",
    "# Total volume of plasmid and insert (in uL)\n",
    "total_vol = 7\n",
    "\n",
    "# Concentrations (in ng/uL)\n",
    "plasmid_conc = 134.7\n",
    "insert_conc = 59.6\n",
    "\n",
    "# Molecular weights (in kDa)\n",
    "plasmid_mw = 7746.122\n",
    "insert_mw = 254.521\n",
    "\n",
    "# kDa / ng ratio\n",
    "kda_ng = 6.022e11\n",
    "\n",
    "# Concentrations (in kDa/uL)\n",
    "plasmid_conc_kda = plasmid_conc * kda_ng\n",
    "insert_conc_kda = insert_conc * kda_ng\n",
    "\n",
    "# Molar concentrations\n",
    "plasmid_mconc = plasmid_conc_kda / plasmid_mw\n",
    "insert_mconc = insert_conc_kda / insert_mw\n",
    "\n",
    "# Ratio of insert volume to plasmid volume\n",
    "insert_plasmid_ratio = (2 * plasmid_mconc) / insert_mconc\n",
    "\n",
    "# Volumes of plasmid and insert to add (in uL) according to volume limit\n",
    "plasmid_vol = total_vol / (insert_plasmid_ratio + 1)\n",
    "insert_vol = total_vol - plasmid_vol\n",
    "\n"
   ]
  },
  {
   "cell_type": "code",
   "execution_count": 21,
   "id": "54b06116-6d3d-4a72-920c-a3858ac63c14",
   "metadata": {},
   "outputs": [
    {
     "data": {
      "text/plain": [
       "(array([1.39322426, 0.20692437]), -200.0)"
      ]
     },
     "execution_count": 21,
     "metadata": {},
     "output_type": "execute_result"
    }
   ],
   "source": [
    "# Concentrations (in ng/uL)\n",
    "plasmid_conc = 134.7\n",
    "insert_conc = 59.6\n",
    "\n",
    "# Molecular weights (in kDa)\n",
    "plasmid_mw = 7746.122\n",
    "insert_mw = 254.521\n",
    "\n",
    "S = insert_mw / plasmid_mw\n",
    "\n",
    "# Max mass of DNA in reaction (in ng)\n",
    "max_mass = 200\n",
    "\n",
    "# Max volume of DNA in reaction (in uL)\n",
    "max_vol = 6\n",
    "\n",
    "\n",
    "\n",
    "c = np.array([-plasmid_conc, -insert_conc])\n",
    "\n",
    "A_ub = np.array([\n",
    "    [plasmid_conc, 0],\n",
    "    [0, insert_conc],\n",
    "    [1, 1]\n",
    "])\n",
    "\n",
    "b_ub = np.array([200 / ((2 * S) + 1), (400 * S) / ((2 * S) + 1), max_vol])\n",
    "\n",
    "bounds = (0.2, max_vol)\n",
    "\n",
    "res = linprog(c, A_ub = A_ub, b_ub = b_ub, bounds = bounds)\n",
    "res.x, res.fun"
   ]
  },
  {
   "cell_type": "code",
   "execution_count": 35,
   "id": "c6d0554c-5399-4292-95cb-6eb4b29315ed",
   "metadata": {},
   "outputs": [
    {
     "name": "stdout",
     "output_type": "stream",
     "text": [
      "[7.57597147 0.42402853] -129.1222821201363\n",
      "(7638093643.175706, 27286087742.76043, 0.27992630219413744)\n",
      "129.1222821201363\n"
     ]
    }
   ],
   "source": [
    "# Concentrations (in ng/uL)\n",
    "plasmid_conc = 11.9\n",
    "insert_conc = 91.9\n",
    "\n",
    "# Molecular weights (in kDa)\n",
    "plasmid_mw = 7107.896\n",
    "insert_mw = 860.023\n",
    "\n",
    "R = 6.022e11\n",
    "\n",
    "S = insert_mw / plasmid_mw\n",
    "\n",
    "# Max mass of DNA in reaction (in ng)\n",
    "max_mass = 200\n",
    "\n",
    "# Max volume of DNA in reaction (in uL)\n",
    "max_vol = 8\n",
    "\n",
    "\n",
    "\n",
    "c = np.array([-plasmid_conc, -insert_conc])\n",
    "\n",
    "A_ub = np.array([\n",
    "    [plasmid_conc, 0],\n",
    "    [0, insert_conc],\n",
    "    [1, 1]\n",
    "])\n",
    "\n",
    "b_ub = np.array([200 / ((2 * S) + 1), (400 * S) / ((2 * S) + 1), max_vol])\n",
    "\n",
    "bounds = (0.2, max_vol)\n",
    "\n",
    "res = linprog(c, A_ub = A_ub, b_ub = b_ub, bounds = bounds)\n",
    "print(res.x, res.fun)\n",
    "\n",
    "print(moles(*res.x, plasmid_conc, insert_conc, plasmid_mw, insert_mw))\n",
    "print(mass(*res.x, plasmid_conc, insert_conc, plasmid_mw, insert_mw))"
   ]
  },
  {
   "cell_type": "code",
   "execution_count": 28,
   "id": "ce92f741-e625-4cb9-a372-06ad41934e88",
   "metadata": {},
   "outputs": [],
   "source": [
    "def moles(pv, iv, pc, ic, pmw, imw):\n",
    "    plasmid_moles = (pc * R * pv) / pmw\n",
    "    insert_moles = (ic * R * iv) / imw\n",
    "    return plasmid_moles, insert_moles, plasmid_moles / insert_moles\n",
    "\n",
    "def mass(pv, iv, pc, ic, pmw, imw):\n",
    "    return (pc * pv) + (ic * iv)"
   ]
  },
  {
   "cell_type": "code",
   "execution_count": 47,
   "id": "618d12c0-4453-4ce9-8af5-078a89155471",
   "metadata": {},
   "outputs": [
    {
     "name": "stdout",
     "output_type": "stream",
     "text": [
      "True [ 7.75693599  0.24306401 11.9        91.9       ] -114.6451206282415\n",
      "(7820724851.504982, 15641449703.010435, 0.49999999999998496)\n",
      "114.6451206282415\n"
     ]
    }
   ],
   "source": [
    "# Concentrations (in ng/uL)\n",
    "plasmid_conc = 11.9\n",
    "insert_conc = 91.9\n",
    "\n",
    "# Molecular weights (in kDa)\n",
    "plasmid_mw = 7107.896\n",
    "insert_mw = 860.023\n",
    "\n",
    "R = constants.Avogadro / 1e12\n",
    "\n",
    "S = insert_mw / plasmid_mw\n",
    "\n",
    "# Max mass of DNA in reaction (in ng)\n",
    "max_mass = 200\n",
    "\n",
    "# Max volume of DNA in reaction (in uL)\n",
    "max_vol = 8\n",
    "\n",
    "# x = (pv, iv, pc, ic)\n",
    "def total_dna(x):\n",
    "    pv, iv, pc, ic = x\n",
    "    return -((pv * pc) + (iv * ic))\n",
    "\n",
    "cons = (\n",
    "    {'type': 'ineq', 'fun': lambda x: max_vol - x[0] - x[1]},\n",
    "    {'type': 'ineq', 'fun': lambda x: max_mass - (x[0] * x[2]) - (x[1] * x[3])},\n",
    "    {'type': 'eq', 'fun': lambda x: (2 * S) - ((x[1] * x[3]) / (x[0] * x[2]))}\n",
    ")\n",
    "\n",
    "bnds = ((0.2, max_vol), (0.2, max_vol), (0, plasmid_conc), (0, insert_conc))\n",
    "\n",
    "init_guess = (4, 4, 50, 50)\n",
    "\n",
    "res = minimize(total_dna, init_guess, bounds = bnds, constraints = cons)\n",
    "print(res.success, res.x, res.fun)\n",
    "\n",
    "print(moles(*res.x, plasmid_mw, insert_mw))\n",
    "print(mass(*res.x, plasmid_mw, insert_mw))"
   ]
  }
 ],
 "metadata": {
  "kernelspec": {
   "display_name": "Python 3 (ipykernel)",
   "language": "python",
   "name": "python3"
  },
  "language_info": {
   "codemirror_mode": {
    "name": "ipython",
    "version": 3
   },
   "file_extension": ".py",
   "mimetype": "text/x-python",
   "name": "python",
   "nbconvert_exporter": "python",
   "pygments_lexer": "ipython3",
   "version": "3.11.7"
  }
 },
 "nbformat": 4,
 "nbformat_minor": 5
}
